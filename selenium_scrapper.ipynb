{
 "cells": [
  {
   "cell_type": "code",
   "execution_count": 1,
   "id": "8735c7dd-61fe-4a59-aad0-c6df58bdd5a0",
   "metadata": {},
   "outputs": [],
   "source": [
    "import requests\n",
    "import time\n",
    "import csv\n",
    "from bs4 import BeautifulSoup\n",
    "from selenium import webdriver\n",
    "from selenium.webdriver.common.by import By\n",
    "from selenium.webdriver.support.wait import WebDriverWait\n",
    "from selenium.webdriver.support import expected_conditions as EC\n",
    "from selenium.webdriver.common.keys import Keys\n",
    "\n",
    "from selenium import webdriver\n",
    "from selenium.webdriver.common.by import By\n",
    "from selenium.webdriver.chrome.service import Service"
   ]
  },
  {
   "cell_type": "code",
   "execution_count": 2,
   "id": "1a57e0cb-e75d-4267-8357-7e6f602ab387",
   "metadata": {},
   "outputs": [],
   "source": [
    "import sys\n",
    "sys.path.insert(0,'/usr/lib/chromium-browser/chromedriver')"
   ]
  },
  {
   "cell_type": "code",
   "execution_count": 8,
   "id": "9be69801-0235-4b40-8cf5-5b15eba746f4",
   "metadata": {},
   "outputs": [],
   "source": [
    "service = Service()\n",
    "\n",
    "chrome_options = webdriver.ChromeOptions()\n",
    "chrome_options.add_argument('--headless')\n",
    "chrome_options.add_argument('--no-sandbox')\n",
    "chrome_options.add_argument('--disable-dev-shm-usage')"
   ]
  },
  {
   "cell_type": "code",
   "execution_count": 10,
   "id": "ba6dc815-2721-4ebf-8426-f3ecc1f66328",
   "metadata": {},
   "outputs": [
    {
     "name": "stdout",
     "output_type": "stream",
     "text": [
      "Архангельская область - последние новости сегодня - РИА Новости\n"
     ]
    }
   ],
   "source": [
    "wd = webdriver.Chrome(service=service,options=chrome_options)\n",
    "wd.get(\"https://ria.ru/location_Arkhangelskaja_oblast/\")\n",
    "wd.implicitly_wait(10)\n",
    "wd.fullscreen_window\n",
    "print(wd.title)"
   ]
  },
  {
   "cell_type": "code",
   "execution_count": 15,
   "id": "c57013f6-8df0-43ae-9320-95c5f6f03195",
   "metadata": {},
   "outputs": [],
   "source": [
    "def parse():\n",
    "  soup = BeautifulSoup(wd.page_source, features=\"lxml\") \n",
    "  location_blocks = soup.findAll('div', {'class': 'list-item'})\n",
    "  for block in location_blocks:\n",
    "\n",
    "        tags = []\n",
    "        tagsAll = []\n",
    "        data = []\n",
    "\n",
    "        title=(block.find('div').find('a', {'class': 'list-item__title color-font-hover-only'}).text) \n",
    "\n",
    "        link=(block.find('a', {'class': 'list-item__title color-font-hover-only'}).get('href')) \n",
    "\n",
    "        tagsAll = block.find('div', {'class': 'list-item__tags-list'}).findAll('a')  \n",
    "        for itemLi in tagsAll:\n",
    "          tags.append(itemLi.find('span').text)    \n",
    "\n",
    "        data.append(title)\n",
    "        data.append(link)\n",
    "        data.append(tags)\n",
    "        with open('harvest_data.csv',  mode=\"a\", encoding='utf-8-sig') as f:\n",
    "          writer = csv.writer(f)\n",
    "          writer.writerow(data)\n"
   ]
  },
  {
   "cell_type": "code",
   "execution_count": 16,
   "id": "1e5c9df7-1d7f-45ce-a219-f76539234bf8",
   "metadata": {},
   "outputs": [],
   "source": [
    "wait = WebDriverWait(wd, 30)\n",
    "wait.until(EC.element_to_be_clickable((By.CLASS_NAME, 'list-more'))) \n",
    "\n",
    "x = 0\n",
    "while x<200:        \n",
    "  time.sleep(0.5)\n",
    "  wd.execute_script('document.querySelector(\"#content > div > div.layout-rubric__main > div > div.list-more\").click()') \n",
    "  x = x+10\n",
    "\n",
    "time.sleep(2) \n",
    "parse()"
   ]
  }
 ],
 "metadata": {
  "kernelspec": {
   "display_name": "Python 3 (ipykernel)",
   "language": "python",
   "name": "python3"
  },
  "language_info": {
   "codemirror_mode": {
    "name": "ipython",
    "version": 3
   },
   "file_extension": ".py",
   "mimetype": "text/x-python",
   "name": "python",
   "nbconvert_exporter": "python",
   "pygments_lexer": "ipython3",
   "version": "3.10.12"
  }
 },
 "nbformat": 4,
 "nbformat_minor": 5
}
